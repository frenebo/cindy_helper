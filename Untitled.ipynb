{
 "cells": [
  {
   "cell_type": "code",
   "execution_count": 6,
   "metadata": {},
   "outputs": [
    {
     "data": {
      "application/vnd.jupyter.widget-view+json": {
       "model_id": "0c20e7c4020d4d60a5829691088ce7a6",
       "version_major": 2,
       "version_minor": 0
      },
      "text/plain": [
       "Plot(antialias=3, axes=['x', 'y', 'z'], axes_helper=1.0, background_color=16777215, camera_animation=[], camer…"
      ]
     },
     "metadata": {},
     "output_type": "display_data"
    },
    {
     "data": {
      "application/vnd.jupyter.widget-view+json": {
       "model_id": "2e2f2e3fdc664f678028946bb421abdf",
       "version_major": 2,
       "version_minor": 0
      },
      "text/plain": [
       "Output()"
      ]
     },
     "metadata": {},
     "output_type": "display_data"
    }
   ],
   "source": [
    "import numpy as np\n",
    "import k3d\n",
    "import SimpleITK as sitk\n",
    "\n",
    "plot = k3d.plot()\n",
    "\n",
    "im_sitk = sitk.ReadImage('/Users/paulkreymborg/Downloads/3Dsec_0000-0096_0000-0096_00-40.tif')\n",
    "img = sitk.GetArrayFromImage(im_sitk)\n",
    "size = np.array(im_sitk.GetSize()) * np.array(im_sitk.GetSpacing())\n",
    "im_sitk.GetSize()\n",
    "\n",
    "volume = k3d.volume(\n",
    "    img.astype(np.float32),\n",
    "    alpha_coef=1000,\n",
    "    shadow='off', #dynamic is a fancy option but require a good GPU\n",
    "    samples=600,\n",
    "    shadow_res=128,\n",
    "    shadow_delay=50,\n",
    "    color_range=[150, 750],\n",
    "    color_map=(np.array(k3d.colormaps.matplotlib_color_maps.Gist_heat).reshape(-1, 4)\n",
    "               * np.array([1, 1.75, 1.75, 1.75])).astype(np.float32)\n",
    ")\n",
    "\n",
    "volume.transform.bounds = [-size[0] / 2, size[0] / 2,\n",
    "                           -size[1] / 2, size[1] / 2,\n",
    "                           -size[2] / 2, size[2] / 2]\n",
    "plot.display()"
   ]
  },
  {
   "cell_type": "code",
   "execution_count": null,
   "metadata": {},
   "outputs": [],
   "source": [
    "\n",
    "\n"
   ]
  }
 ],
 "metadata": {
  "kernelspec": {
   "display_name": "Python 3",
   "language": "python",
   "name": "python3"
  },
  "language_info": {
   "codemirror_mode": {
    "name": "ipython",
    "version": 3
   },
   "file_extension": ".py",
   "mimetype": "text/x-python",
   "name": "python",
   "nbconvert_exporter": "python",
   "pygments_lexer": "ipython3",
   "version": "3.8.3"
  }
 },
 "nbformat": 4,
 "nbformat_minor": 4
}
