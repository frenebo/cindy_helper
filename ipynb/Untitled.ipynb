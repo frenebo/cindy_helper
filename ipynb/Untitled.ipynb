{
 "cells": [
  {
   "cell_type": "code",
   "execution_count": 1,
   "metadata": {},
   "outputs": [
    {
     "name": "stdout",
     "output_type": "stream",
     "text": [
      "/Users/paulkreymborg/Documents/cindy_helper\n"
     ]
    }
   ],
   "source": [
    "cd .."
   ]
  },
  {
   "cell_type": "code",
   "execution_count": 2,
   "metadata": {},
   "outputs": [],
   "source": [
    "from snakeutils.files import pil_img_3d_to_np_arr"
   ]
  },
  {
   "cell_type": "code",
   "execution_count": 3,
   "metadata": {},
   "outputs": [
    {
     "name": "stdout",
     "output_type": "stream",
     "text": [
      "/Users/paulkreymborg/Documents/cindy_helper/ipynb\n"
     ]
    }
   ],
   "source": [
    "cd ipynb"
   ]
  },
  {
   "cell_type": "code",
   "execution_count": 4,
   "metadata": {},
   "outputs": [
    {
     "name": "stdout",
     "output_type": "stream",
     "text": [
      "Adding snakes\n",
      "Added 505 snakes\n"
     ]
    },
    {
     "data": {
      "application/vnd.jupyter.widget-view+json": {
       "model_id": "d3b1e92b38554d349d5d446e594010f7",
       "version_major": 2,
       "version_minor": 0
      },
      "text/plain": [
       "Output()"
      ]
     },
     "metadata": {},
     "output_type": "display_data"
    }
   ],
   "source": [
    "import numpy as np\n",
    "import k3d\n",
    "import json\n",
    "import SimpleITK as sitk\n",
    "\n",
    "tif_path = (\"/Users/paulkreymborg/Downloads/test/TestSectionedTIFFs/sectioned_auto_contrast_MTsAndBeads_40x_2umStep_20s_image_T0005_DA_FI_TR_Cy5_Cy7/\"\n",
    "    \"3Dsec_0000-0192_0960-1152_00-40.tif\")\n",
    "json_path = (\"/Users/paulkreymborg/Downloads/test/TestJsonSnakes/params_sps03/sectioned_auto_contrast_MTsAndBeads_40x_2umStep_20s_image_T0005_DA_FI_TR_Cy5_Cy7/\"\n",
    "    \"3Dsec_0000-0192_0960-1152_00-40.json\")\n",
    "\n",
    "plot = k3d.plot()\n",
    "\n",
    "im_sitk = sitk.ReadImage(tif_path)\n",
    "img = sitk.GetArrayFromImage(im_sitk)\n",
    "size = np.array(im_sitk.GetSize()) * np.array(im_sitk.GetSpacing())\n",
    "im_sitk.GetSize()\n",
    "\n",
    "volume = k3d.volume(\n",
    "    img.astype(np.float32),\n",
    "    alpha_coef=2,\n",
    "    shadow='off', #dynamic is a fancy option but require a good GPU\n",
    "    samples=600,\n",
    "    shadow_res=128,\n",
    "    shadow_delay=50,\n",
    "    color_range=[60000, 65535],\n",
    "    #color_map=(np.array(k3d.colormaps.matplotlib_color_maps.Gist_heat).reshape(-1, 4)\n",
    "    #           * np.array([1, 1.75, 1.75, 1.75])).astype(np.float32)\n",
    ")\n",
    "\n",
    "volume.transform.bounds = [0, size[0],\n",
    "                           0, size[1],\n",
    "                           0, size[2]]\n",
    "\n",
    "plot += volume\n",
    "\n",
    "with open(json_path, \"r\") as f:\n",
    "    snakes = json.load(f)\n",
    "\n",
    "print(\"Adding snakes\")\n",
    "for snake in snakes:\n",
    "    coords = []\n",
    "    for snake_pt in snake:\n",
    "        coords.append(snake_pt[\"pos\"])\n",
    "    plt_line = k3d.line(coords, shader='mesh', width=0.5)\n",
    "    plot += plt_line\n",
    "print(\"Added {} snakes\".format(len(snakes)))\n",
    "plot.display()"
   ]
  },
  {
   "cell_type": "code",
   "execution_count": null,
   "metadata": {},
   "outputs": [],
   "source": []
  }
 ],
 "metadata": {
  "kernelspec": {
   "display_name": "Python 3",
   "language": "python",
   "name": "python3"
  },
  "language_info": {
   "codemirror_mode": {
    "name": "ipython",
    "version": 3
   },
   "file_extension": ".py",
   "mimetype": "text/x-python",
   "name": "python",
   "nbconvert_exporter": "python",
   "pygments_lexer": "ipython3",
   "version": "3.8.3"
  }
 },
 "nbformat": 4,
 "nbformat_minor": 4
}
