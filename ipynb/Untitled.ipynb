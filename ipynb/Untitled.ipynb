{
 "cells": [
  {
   "cell_type": "code",
   "execution_count": 1,
   "metadata": {},
   "outputs": [
    {
     "name": "stdout",
     "output_type": "stream",
     "text": [
      "/Users/paulkreymborg/Documents/sindy_helper\n"
     ]
    }
   ],
   "source": [
    "cd .."
   ]
  },
  {
   "cell_type": "code",
   "execution_count": 2,
   "metadata": {},
   "outputs": [],
   "source": [
    "from snakeutils.tifimage import pil_img_3d_to_np_arr"
   ]
  },
  {
   "cell_type": "code",
   "execution_count": 3,
   "metadata": {},
   "outputs": [
    {
     "name": "stdout",
     "output_type": "stream",
     "text": [
      "/Users/paulkreymborg/Documents/sindy_helper/ipynb\n"
     ]
    }
   ],
   "source": [
    "cd ipynb"
   ]
  },
  {
   "cell_type": "code",
   "execution_count": 15,
   "metadata": {},
   "outputs": [
    {
     "name": "stdout",
     "output_type": "stream",
     "text": [
      "2\n",
      "[1280. 1080.]\n",
      "(1080, 1280, 1)\n",
      "[1. 1.]\n",
      "dims_pixels_xyz: [1280, 1080, 1]\n"
     ]
    },
    {
     "data": {
      "application/vnd.jupyter.widget-view+json": {
       "model_id": "5bb66a88dc2543c487c9f582310272e9",
       "version_major": 2,
       "version_minor": 0
      },
      "text/plain": [
       "Output()"
      ]
     },
     "metadata": {},
     "output_type": "display_data"
    }
   ],
   "source": [
    "import numpy as np\n",
    "import k3d\n",
    "import json\n",
    "import SimpleITK as sitk\n",
    "\n",
    "tif_path  = (\"/Users/paulkreymborg/Downloads/nov_tifs/auto_contrast_1to12MTs_40x_2x2_5sInt_downsample0001.tif\")\n",
    "json_path = (\"/Users/paulkreymborg/Downloads/nov_tifs/joined_sectioned_auto_contrast_1to12MTs_40x_2x2_5sInt_downsample0001.json\")\n",
    "\n",
    "plot = k3d.plot()\n",
    "\n",
    "im_sitk = sitk.ReadImage(tif_path)\n",
    "img = sitk.GetArrayFromImage(im_sitk)\n",
    "if len(img.shape) == 2:\n",
    "    new_img = np.empty((img.shape[0],img.shape[1],1),dtype=img.dtype)\n",
    "    new_img[:,:,0] = img\n",
    "    img = new_img\n",
    "# if len(img.size)\n",
    "size = np.array(im_sitk.GetSize()) * np.array(im_sitk.GetSpacing())\n",
    "im_sitk.GetSize()\n",
    "print(len(size))\n",
    "print(size)\n",
    "print(img.shape)\n",
    "print(np.array(im_sitk.GetSpacing()))\n",
    "\n",
    "volume = k3d.volume(\n",
    "    img.astype(np.float32),\n",
    "    alpha_coef=5,\n",
    "    shadow='off', #dynamic is a fancy option but require a good GPU\n",
    "    samples=600,\n",
    "    shadow_res=128,\n",
    "    shadow_delay=50,\n",
    "    color_range=[10000, 65535],\n",
    "    #color_map=(np.array(k3d.colormaps.matplotlib_color_maps.Gist_heat).reshape(-1, 4)\n",
    "    #           * np.array([1, 1.75, 1.75, 1.75])).astype(np.float32)\n",
    ")\n",
    "\n",
    "with open(json_path, \"r\") as f:\n",
    "    data = json.load(f)\n",
    "\n",
    "pixels_dims = data[\"metadata\"][\"dims_pixels_xyz\"]\n",
    "print(\"dims_pixels_xyz: {}\".format(pixels_dims))\n",
    "volume.transform.bounds = [0,pixels_dims[0],0,pixels_dims[1],0,pixels_dims[2]]\n",
    "# volume.transform.bounds = [0, size[0],\n",
    "#                            0, size[1],\n",
    "#                            0, size[2]]\n",
    "\n",
    "plot += volume\n",
    "\n",
    "# print(\"Adding snakes\")\n",
    "# for snake in data[\"snakes\"]:\n",
    "#     coords = []\n",
    "#     for snake_pt in snake:\n",
    "#         x,y,z = snake_pt[\"pos\"]\n",
    "#         # To put inside volume pixel centers\n",
    "#         x += 0.5\n",
    "#         y += 0.5\n",
    "#         z += 0.5\n",
    "#         coords.append([x,y,z])\n",
    "#     plt_line = k3d.line(coords, shader='mesh', width=0.2)\n",
    "#     plot += plt_line\n",
    "# print(\"Added {} snakes\".format(len(data[\"snakes\"])))\n",
    "plot.display()"
   ]
  },
  {
   "cell_type": "code",
   "execution_count": null,
   "metadata": {},
   "outputs": [],
   "source": []
  }
 ],
 "metadata": {
  "kernelspec": {
   "display_name": "Python 3",
   "language": "python",
   "name": "python3"
  },
  "language_info": {
   "codemirror_mode": {
    "name": "ipython",
    "version": 3
   },
   "file_extension": ".py",
   "mimetype": "text/x-python",
   "name": "python",
   "nbconvert_exporter": "python",
   "pygments_lexer": "ipython3",
   "version": "3.8.3"
  }
 },
 "nbformat": 4,
 "nbformat_minor": 4
}
